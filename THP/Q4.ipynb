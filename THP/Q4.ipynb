{
 "cells": [
  {
   "cell_type": "code",
   "execution_count": 4,
   "metadata": {},
   "outputs": [
    {
     "name": "stdout",
     "output_type": "stream",
     "text": [
      "Requirement already satisfied: roboticstoolbox-python in c:\\users\\abakash\\anaconda3\\lib\\site-packages (1.1.1)\n",
      "Requirement already satisfied: numpy>=1.17.4 in c:\\users\\abakash\\anaconda3\\lib\\site-packages (from roboticstoolbox-python) (1.26.4)\n",
      "Requirement already satisfied: spatialmath-python>=1.1.5 in c:\\users\\abakash\\anaconda3\\lib\\site-packages (from roboticstoolbox-python) (1.1.11)\n",
      "Requirement already satisfied: spatialgeometry>=1.0.0 in c:\\users\\abakash\\anaconda3\\lib\\site-packages (from roboticstoolbox-python) (1.1.0)\n",
      "Requirement already satisfied: pgraph-python in c:\\users\\abakash\\anaconda3\\lib\\site-packages (from roboticstoolbox-python) (0.6.2)\n",
      "Requirement already satisfied: scipy in c:\\users\\abakash\\anaconda3\\lib\\site-packages (from roboticstoolbox-python) (1.11.4)\n",
      "Requirement already satisfied: matplotlib in c:\\users\\abakash\\anaconda3\\lib\\site-packages (from roboticstoolbox-python) (3.8.0)\n",
      "Requirement already satisfied: ansitable in c:\\users\\abakash\\anaconda3\\lib\\site-packages (from roboticstoolbox-python) (0.11.2)\n",
      "Requirement already satisfied: swift-sim>=1.0.0 in c:\\users\\abakash\\anaconda3\\lib\\site-packages (from roboticstoolbox-python) (1.1.0)\n",
      "Requirement already satisfied: rtb-data in c:\\users\\abakash\\anaconda3\\lib\\site-packages (from roboticstoolbox-python) (1.0.1)\n",
      "Requirement already satisfied: progress in c:\\users\\abakash\\anaconda3\\lib\\site-packages (from roboticstoolbox-python) (1.6)\n",
      "Requirement already satisfied: typing-extensions in c:\\users\\abakash\\anaconda3\\lib\\site-packages (from roboticstoolbox-python) (4.9.0)\n",
      "Requirement already satisfied: pre-commit in c:\\users\\abakash\\anaconda3\\lib\\site-packages (from spatialmath-python>=1.1.5->roboticstoolbox-python) (4.0.1)\n",
      "Requirement already satisfied: websockets in c:\\users\\abakash\\anaconda3\\lib\\site-packages (from swift-sim>=1.0.0->roboticstoolbox-python) (13.1)\n",
      "Requirement already satisfied: colored in c:\\users\\abakash\\anaconda3\\lib\\site-packages (from ansitable->roboticstoolbox-python) (2.2.4)\n",
      "Requirement already satisfied: contourpy>=1.0.1 in c:\\users\\abakash\\anaconda3\\lib\\site-packages (from matplotlib->roboticstoolbox-python) (1.2.0)\n",
      "Requirement already satisfied: cycler>=0.10 in c:\\users\\abakash\\anaconda3\\lib\\site-packages (from matplotlib->roboticstoolbox-python) (0.11.0)\n",
      "Requirement already satisfied: fonttools>=4.22.0 in c:\\users\\abakash\\anaconda3\\lib\\site-packages (from matplotlib->roboticstoolbox-python) (4.25.0)\n",
      "Requirement already satisfied: kiwisolver>=1.0.1 in c:\\users\\abakash\\anaconda3\\lib\\site-packages (from matplotlib->roboticstoolbox-python) (1.4.4)\n",
      "Requirement already satisfied: packaging>=20.0 in c:\\users\\abakash\\anaconda3\\lib\\site-packages (from matplotlib->roboticstoolbox-python) (23.1)\n",
      "Requirement already satisfied: pillow>=6.2.0 in c:\\users\\abakash\\anaconda3\\lib\\site-packages (from matplotlib->roboticstoolbox-python) (10.2.0)\n",
      "Requirement already satisfied: pyparsing>=2.3.1 in c:\\users\\abakash\\anaconda3\\lib\\site-packages (from matplotlib->roboticstoolbox-python) (3.0.9)\n",
      "Requirement already satisfied: python-dateutil>=2.7 in c:\\users\\abakash\\anaconda3\\lib\\site-packages (from matplotlib->roboticstoolbox-python) (2.8.2)\n",
      "Requirement already satisfied: six>=1.5 in c:\\users\\abakash\\anaconda3\\lib\\site-packages (from python-dateutil>=2.7->matplotlib->roboticstoolbox-python) (1.16.0)\n",
      "Requirement already satisfied: cfgv>=2.0.0 in c:\\users\\abakash\\anaconda3\\lib\\site-packages (from pre-commit->spatialmath-python>=1.1.5->roboticstoolbox-python) (3.4.0)\n",
      "Requirement already satisfied: identify>=1.0.0 in c:\\users\\abakash\\anaconda3\\lib\\site-packages (from pre-commit->spatialmath-python>=1.1.5->roboticstoolbox-python) (2.6.1)\n",
      "Requirement already satisfied: nodeenv>=0.11.1 in c:\\users\\abakash\\anaconda3\\lib\\site-packages (from pre-commit->spatialmath-python>=1.1.5->roboticstoolbox-python) (1.9.1)\n",
      "Requirement already satisfied: pyyaml>=5.1 in c:\\users\\abakash\\anaconda3\\lib\\site-packages (from pre-commit->spatialmath-python>=1.1.5->roboticstoolbox-python) (6.0.1)\n",
      "Requirement already satisfied: virtualenv>=20.10.0 in c:\\users\\abakash\\anaconda3\\lib\\site-packages (from pre-commit->spatialmath-python>=1.1.5->roboticstoolbox-python) (20.26.6)\n",
      "Requirement already satisfied: distlib<1,>=0.3.7 in c:\\users\\abakash\\anaconda3\\lib\\site-packages (from virtualenv>=20.10.0->pre-commit->spatialmath-python>=1.1.5->roboticstoolbox-python) (0.3.9)\n",
      "Requirement already satisfied: filelock<4,>=3.12.2 in c:\\users\\abakash\\anaconda3\\lib\\site-packages (from virtualenv>=20.10.0->pre-commit->spatialmath-python>=1.1.5->roboticstoolbox-python) (3.13.1)\n",
      "Requirement already satisfied: platformdirs<5,>=3.9.1 in c:\\users\\abakash\\anaconda3\\lib\\site-packages (from virtualenv>=20.10.0->pre-commit->spatialmath-python>=1.1.5->roboticstoolbox-python) (3.10.0)\n",
      "Note: you may need to restart the kernel to use updated packages.\n"
     ]
    }
   ],
   "source": [
    "pip install --upgrade roboticstoolbox-python"
   ]
  },
  {
   "cell_type": "code",
   "execution_count": 1,
   "metadata": {},
   "outputs": [
    {
     "ename": "ImportError",
     "evalue": "cannot import name 'SE3' from 'roboticstoolbox' (c:\\Users\\Abakash\\anaconda3\\Lib\\site-packages\\roboticstoolbox\\__init__.py)",
     "output_type": "error",
     "traceback": [
      "\u001b[1;31m---------------------------------------------------------------------------\u001b[0m",
      "\u001b[1;31mImportError\u001b[0m                               Traceback (most recent call last)",
      "Cell \u001b[1;32mIn[1], line 3\u001b[0m\n\u001b[0;32m      1\u001b[0m \u001b[38;5;28;01mimport\u001b[39;00m \u001b[38;5;21;01mroboticstoolbox\u001b[39;00m \u001b[38;5;28;01mas\u001b[39;00m \u001b[38;5;21;01mrtb\u001b[39;00m\n\u001b[0;32m      2\u001b[0m \u001b[38;5;28;01mimport\u001b[39;00m \u001b[38;5;21;01mnumpy\u001b[39;00m \u001b[38;5;28;01mas\u001b[39;00m \u001b[38;5;21;01mnp\u001b[39;00m\n\u001b[1;32m----> 3\u001b[0m \u001b[38;5;28;01mfrom\u001b[39;00m \u001b[38;5;21;01mroboticstoolbox\u001b[39;00m \u001b[38;5;28;01mimport\u001b[39;00m SE3 , SO3\n\u001b[0;32m      5\u001b[0m \u001b[38;5;66;03m# Define the Puma560 robot\u001b[39;00m\n\u001b[0;32m      6\u001b[0m Puma560 \u001b[38;5;241m=\u001b[39m rtb\u001b[38;5;241m.\u001b[39mmodels\u001b[38;5;241m.\u001b[39mDH\u001b[38;5;241m.\u001b[39mPuma560()\n",
      "\u001b[1;31mImportError\u001b[0m: cannot import name 'SE3' from 'roboticstoolbox' (c:\\Users\\Abakash\\anaconda3\\Lib\\site-packages\\roboticstoolbox\\__init__.py)"
     ]
    }
   ],
   "source": [
    "import roboticstoolbox as rtb\n",
    "import numpy as np\n",
    "from roboticstoolbox import SE3 , SO3\n",
    "\n",
    "# Define the Puma560 robot\n",
    "Puma560 = rtb.models.DH.Puma560()\n",
    "\n",
    "# Define target position and orientation\n",
    "target_position = np.array([0.5, -0.1, 0.5])\n",
    "target_orientation = np.eye(3)\n",
    "\n",
    "# Create the transformation matrix\n",
    "T = rtb.SE3(target_position) * rtb.SO3(target_orientation)\n",
    "\n",
    "# Compute the inverse kinematics\n",
    "q_initial = np.zeros(6)  # Initial guess\n",
    "q_solution = Puma560.ikine_LMS(T, q0=q_initial)\n",
    "\n",
    "# Check for valid solution\n",
    "if q_solution is not None and np.all(np.isfinite(q_solution.q)):\n",
    "    print(\"Joint angles (q):\", q_solution.q)\n",
    "else:\n",
    "    print(\"No valid solution found.\")"
   ]
  }
 ],
 "metadata": {
  "kernelspec": {
   "display_name": "base",
   "language": "python",
   "name": "python3"
  },
  "language_info": {
   "codemirror_mode": {
    "name": "ipython",
    "version": 3
   },
   "file_extension": ".py",
   "mimetype": "text/x-python",
   "name": "python",
   "nbconvert_exporter": "python",
   "pygments_lexer": "ipython3",
   "version": "3.11.7"
  }
 },
 "nbformat": 4,
 "nbformat_minor": 2
}
